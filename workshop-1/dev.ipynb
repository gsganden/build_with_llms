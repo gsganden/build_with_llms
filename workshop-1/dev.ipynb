{
 "cells": [
  {
   "cell_type": "code",
   "execution_count": 4,
   "metadata": {},
   "outputs": [],
   "source": [
    "from pathlib import Path\n",
    "\n",
    "from dotenv import load_dotenv\n",
    "from transformers import AutoTokenizer, AutoModelForCausalLM, BitsAndBytesConfig"
   ]
  },
  {
   "cell_type": "code",
   "execution_count": 2,
   "metadata": {},
   "outputs": [
    {
     "data": {
      "text/plain": [
       "True"
      ]
     },
     "execution_count": 2,
     "metadata": {},
     "output_type": "execute_result"
    }
   ],
   "source": [
    "load_dotenv(\"../.env\")\n"
   ]
  },
  {
   "cell_type": "markdown",
   "metadata": {},
   "source": [
    "Following https://huggingface.co/docs/transformers/en/llm_tutorial, but can't use `bitsandbytes` on Apple Silicon."
   ]
  },
  {
   "cell_type": "code",
   "execution_count": null,
   "metadata": {},
   "outputs": [
    {
     "data": {
      "application/vnd.jupyter.widget-view+json": {
       "model_id": "f6f897984e904cc6982021f5b870c59a",
       "version_major": 2,
       "version_minor": 0
      },
      "text/plain": [
       "config.json:   0%|          | 0.00/899 [00:00<?, ?B/s]"
      ]
     },
     "metadata": {},
     "output_type": "display_data"
    },
    {
     "data": {
      "application/vnd.jupyter.widget-view+json": {
       "model_id": "285e34e6ecef499b81c84aeedfbc2e6a",
       "version_major": 2,
       "version_minor": 0
      },
      "text/plain": [
       "model.safetensors:   0%|          | 0.00/2.00G [00:00<?, ?B/s]"
      ]
     },
     "metadata": {},
     "output_type": "display_data"
    },
    {
     "data": {
      "application/vnd.jupyter.widget-view+json": {
       "model_id": "ab766359c07c4128ab94255ee28cd621",
       "version_major": 2,
       "version_minor": 0
      },
      "text/plain": [
       "generation_config.json:   0%|          | 0.00/215 [00:00<?, ?B/s]"
      ]
     },
     "metadata": {},
     "output_type": "display_data"
    },
    {
     "data": {
      "text/plain": [
       "Gemma3ForCausalLM(\n",
       "  (model): Gemma3TextModel(\n",
       "    (embed_tokens): Gemma3TextScaledWordEmbedding(262144, 1152, padding_idx=0)\n",
       "    (layers): ModuleList(\n",
       "      (0-25): 26 x Gemma3DecoderLayer(\n",
       "        (self_attn): Gemma3Attention(\n",
       "          (q_proj): Linear(in_features=1152, out_features=1024, bias=False)\n",
       "          (k_proj): Linear(in_features=1152, out_features=256, bias=False)\n",
       "          (v_proj): Linear(in_features=1152, out_features=256, bias=False)\n",
       "          (o_proj): Linear(in_features=1024, out_features=1152, bias=False)\n",
       "          (q_norm): Gemma3RMSNorm((256,), eps=1e-06)\n",
       "          (k_norm): Gemma3RMSNorm((256,), eps=1e-06)\n",
       "        )\n",
       "        (mlp): Gemma3MLP(\n",
       "          (gate_proj): Linear(in_features=1152, out_features=6912, bias=False)\n",
       "          (up_proj): Linear(in_features=1152, out_features=6912, bias=False)\n",
       "          (down_proj): Linear(in_features=6912, out_features=1152, bias=False)\n",
       "          (act_fn): PytorchGELUTanh()\n",
       "        )\n",
       "        (input_layernorm): Gemma3RMSNorm((1152,), eps=1e-06)\n",
       "        (post_attention_layernorm): Gemma3RMSNorm((1152,), eps=1e-06)\n",
       "        (pre_feedforward_layernorm): Gemma3RMSNorm((1152,), eps=1e-06)\n",
       "        (post_feedforward_layernorm): Gemma3RMSNorm((1152,), eps=1e-06)\n",
       "      )\n",
       "    )\n",
       "    (norm): Gemma3RMSNorm((1152,), eps=1e-06)\n",
       "    (rotary_emb): Gemma3RotaryEmbedding()\n",
       "    (rotary_emb_local): Gemma3RotaryEmbedding()\n",
       "  )\n",
       "  (lm_head): Linear(in_features=1152, out_features=262144, bias=False)\n",
       ")"
      ]
     },
     "execution_count": 3,
     "metadata": {},
     "output_type": "execute_result"
    }
   ],
   "source": [
    "# Attempt to pick a manageably sized but somewhat capable model\n",
    "model = AutoModelForCausalLM.from_pretrained(\n",
    "    \"google/gemma-3-1b-it\",\n",
    "    device_map=\"auto\",\n",
    ")\n",
    "model"
   ]
  },
  {
   "cell_type": "code",
   "execution_count": 22,
   "metadata": {},
   "outputs": [
    {
     "data": {
      "text/plain": [
       "[\"\\n0 notifications total\\n\\n    new feed updates notifications\\n\\nHome\\nMy Network\\nJobs\\nMessaging\\nNotifications\\n\\n    Advertise\\n\\nAndrew Ng\\n\\nAndrew has a premium account\\nClick to upgrade to Premium\\nAndrew Ng\\n2nd degree connection 2nd\\nFounder of DeepLearning.AI; Managing General Partner of AI Fund; Exec Chairman of Landing AI\\n\\nPalo Alto, California, United States Contact info\\n\\n    1,880,585 followers\\n\\nSebastian Raschka, PhD, Joe Reis, and 7 other mutual connectionsSebastian Raschka, PhD, Joe Reis, and 7 other mutual connections\\n\\nAboutAbout\\nPersonal home page: http://andrewng.org Personal home page: http://andrewng.org \\nActivityActivity\\n\\n1,880,585 followers1,880,585 followers\\nLoaded 3 Posts posts\\n\\n    Andrew Ng posted this • 3d3d\\n    Despite having worked on AI since I was a teenager, I’m now more excited than ever about what we can do with it, especially in building AI applications. Sparks are flying in our field, and 2025 will be a great year for building! One aspect of AI that I’m particularly excited about is how easy it is to build software prototypes. AI is lowering the cost of software development and expanding the set of possible applications. While it can help extend or maintain large software systems, it shines particularly in building prototypes and other simple applications quickly. If you want to build an app to print out flash cards for your kids (I just did this in a couple of hours with o1’s help), or write an application that monitors foreign exchange rates to manage international bank accounts (a real example from DeepLearning.AI’s finance team), or analyzes user reviews automatically to quickly flag problems with your products (DeepLearning.AI's content team does this), it is now possible to build these applications quickly through AI-assisted coding. I find AI-assisted coding especially effective for prototyping because (i) stand-alone prototypes require relatively little context and software integration and (ii) prototypes in alpha testing usually don’t have to be reliable. While generative AI also helps with engineering large, mission-critical software systems, the improvements in productivity there aren't as dramatic, because it’s challenging to give the AI system all the context it needs to navigate a large codebase and also to make sure the generated code is reliable (for example, covering all important corner cases). Until now, a huge friction point for getting a prototype into users’ hands has been deployment. Platforms like Bolt, Replit Agent, Vercel V0 use generative AI with agentic workflows to improve code quality, but more importantly, they also help deploy generated applications directly. (While I find these systems useful, my own workflow typically uses an LLM to design the system architecture and then generate code, one module at a time if there are multiple large modules. Then I test each module, edit the code further if needed — sometimes using an AI-enabled IDE like Cursor — and finally assemble the modules.) Building prototypes quickly is an efficient way to test ideas and get tasks done. It’s also a great way to learn. Perhaps most importantly, it’s really fun! (At least I think it is. 😄) [Reached length limit; full text: https://lnkd.in/gki7_qGv ], Happy New Year! Hopes For 2025 With Mustafa Suleyman, Audrey Tang, Albert Gu, Hanno Basse, and more..., deeplearning.ai\\n    Despite having worked on AI since I was a teenager, I’m now more excited than ever about what we can do with it, especially in building AI applications. Sparks are flying in our field, and 2025 will be a great year for building!\\n\\n    One aspect of AI that I’m particularly excited about is how easy it is to build software prototypes. AI is lowering the cost of software development and expanding the set of possible applications. While it can help extend or maintain large software systems, it shines particularly in building prototypes and other simple applications quickly.\\n\\n    If you want to build an app to print out flash cards for your kids (I just did this in a couple of hours with o1’s help), or write an application that monitors foreign exchange rates to manage international bank accounts (a real example from DeepLearning.AI’s finance team), or analyzes user reviews automatically to quickly flag problems with your products (DeepLearning.AI's content team does this), it is now possible to build these applications quickly through AI-assisted coding.\\n\\n    I find AI-assisted coding especially effective for prototyping because (i) stand-alone prototypes require relatively little context and software integration and (ii) prototypes in alpha testing usually don’t have to be reliable. While generative AI also helps with engineering large, mission-critical software systems, the improvements in productivity there aren't as dramatic, because it’s challenging to give the AI system all the context it needs to navigate a large codebase and also to make sure the generated code is reliable (for example, covering all important corner cases).\\n\\n    Until now, a huge friction point for getting a prototype into users’ hands has been deployment. Platforms like Bolt, Replit Agent, Vercel V0 use generative AI with agentic workflows to improve code quality, but more importantly, they also help deploy generated applications directly. (While I find these systems useful, my own workflow typically uses an LLM to design the system architecture and then generate code, one module at a time if there are multiple large modules. Then I test each module, edit the code further if needed — sometimes using an AI-enabled IDE like Cursor — and finally assemble the modules.)\\n\\n    Building prototypes quickly is an efficient way to test ideas and get tasks done. It’s also a great way to learn. Perhaps most importantly, it’s really fun! (At least I think it is. 😄)\\n\\n    [Reached length limit; full text: https://lnkd.in/gki7_qGv ] \\n\\nHappy New Year! Hopes For 2025 With Mustafa Suleyman, Audrey Tang, Albert Gu, Hanno Basse, and more...\\ndeeplearning.ai\\n\\nAndrew Ng posted this • 4d4d\\nHappy sum(i**3 for i in range(10)) !\\nHappy sum(i**3 for i in range(10)) ! \\n\\nAndrew Ng posted this • 5d5d\\nAs we wrap up 2024, this year's final edition of The Batch summarizes some of the top stories of the year: - Agents ascendant: The growth of agentic workflows - Prices tumble: Rapidly falling LLM token prices - Generative video takes off - Smaller is beautiful: Small language models - Alternatives to acquisitions See the full articles here: https://lnkd.in/gNZXH8tk , Top AI Stories of 2024! Agents Rise, Prices Fall, Models Shrink, and more..., deeplearning.ai\\nAs we wrap up 2024, this year's final edition of The Batch summarizes some of the top stories of the year:\\n- Agents ascendant: The growth of agentic workflows\\n- Prices tumble: Rapidly falling LLM token prices\\n- Generative video takes off \\n- Smaller is beautiful: Small language models\\n- Alternatives to acquisitions \\n\\nSee the full articles here: https://lnkd.in/gNZXH8tk \\nTop AI Stories of 2024! Agents Rise, Prices Fall, Models Shrink, and more...\\ndeeplearning.ai\\n\\nShow all posts\\nExperienceExperience\\n\\n    DeepLearning.AI logo\\n    FounderFounder\\n    DeepLearning.AIDeepLearning.AI Jun 2017 - Present · 7 yrs 8 mosJun 2017 to Present · 7 yrs 8 mos Palo Alto, California, United StatesPalo Alto, California, United States\\n            DeepLearning.AI provides technical training on Generative AI, Machine Learning, Deep Learning, and other topics. We also offer a widely read newsletter, The Batch (thebatch.ai), that covers what matters in AI right now. \\n\\n            Our courses are often created with industry-leading AI companies (AWS, Google, OpenAI, etc.), and we offer both short courses that can be completed in an hour, and longer courses and specializations hosted on Coursera that give you a solid foundation in some aspect of AI. These courses are designed to offer hands-on practice with AI technologies, and you will gain practical, job-ready skills. \\n\\n            Whether you are just starting out in AI or seeking to further an existing career, come see if we can help, at http://deeplearning.ai!DeepLearning.AI provides technical training on Generative AI, Machine Learning, Deep Learning, and other topics. We also offer a widely read newsletter, The Batch (thebatch.ai), that covers what matters in AI right now. Our courses are often created with industry-leading AI companies (AWS, Google, OpenAI, etc.), and we offer both short courses that can be completed in an hour, and longer courses and specializations hosted on Coursera that give you a solid foundation in some aspect of AI. These courses are designed to offer hands-on practice with AI technologies, and you will gain practical, job-ready skills. Whether you are just starting out in AI or seeking to further an existing career, come see if we can help, at http://deeplearning.ai!\\n    AI Fund logo\\n    Managing General PartnerManaging General Partner\\n    AI FundAI Fund Jan 2018 - Present · 7 yrs 1 moJan 2018 to Present · 7 yrs 1 mo\\n            AI Fund is a venture studio that partners with entrepreneurs to build AI companies that move humanity forward. We don't just provide capital, we actively help build the company: we seek to play at least a minor co-founder role in the companies we engage in. \\n\\n            After identifying a concrete startup idea, we actively help the founder validate both customer need and technical feasibility (often collaborating to build a technical prototype), help shape the AI technology roadmap, the go-to-market, and help recruit the key leaders, including the AI engineering team. \\n\\n            Because AI is a general purpose technology that can be applied to numerous sectors -- including ones that we at AI Fund don't have expertise in -- we partner with subject matter experts (SMEs) in logistics, healthcare, education, relationships, finance, and other sectors. By leveraging our AI expertise and the SME's expertise in an important application sector, we can build a promising AI business in that sector. \\n\\n            We take responsible AI seriously and will, on ethical grounds, choose not to pursue projects that we otherwise assess to be financially sound.AI Fund is a venture studio that partners with entrepreneurs to build AI companies that move humanity forward. We don't just provide capital, we actively help build the company: we seek to play at least a minor co-founder role in the companies we engage in. After identifying a concrete startup idea, we actively help the founder validate both customer need and technical feasibility (often collaborating to build a technical prototype), help shape the AI technology roadmap, the go-to-market, and help recruit the key leaders, including the AI engineering team. Because AI is a general purpose technology that can be applied to numerous sectors -- including ones that we at AI Fund don't have expertise in -- we partner with subject matter experts (SMEs) in logistics, healthcare, education, relationships, finance, and other sectors. By leveraging our AI expertise and the SME's expertise in an important application sector, we can build a promising AI business in that sector. We take responsible AI seriously and will, on ethical grounds, choose not to pursue projects that we otherwise assess to be financially sound.\\n    LandingAI logo\\n    Executive Chairman (previously CEO) Executive Chairman (previously CEO) \\n    LandingAILandingAI Oct 2017 - Present · 7 yrs 4 mosOct 2017 to Present · 7 yrs 4 mos Palo Alto, CaliforniaPalo Alto, California\\n            LandingAI delivers cutting-edge Visual AI solutions that empower customers to unlock the value of visual data.\\n\\n            Enabled by the transformer neural network (created by the Google Brain team), the Generative AI revolution has arrived in text processing. We see a similar a revolution coming in visual data processing. LandingAI is developing cutting-edge technologies to help customers process visual data in numerous sectors including manufacturing, industrial automation, life sciences, agriculture, geo-spatial imagery, retail, entertainment, and many others. \\n\\n            Key technical innovations include our open source VisualAgent, Data-centric AI (the discipline of systematically engineering data to build an AI system), Vision Prompting, and domain-specific Large Vision Models.LandingAI delivers cutting-edge Visual AI solutions that empower customers to unlock the value of visual data. Enabled by the transformer neural network (created by the Google Brain team), the Generative AI revolution has arrived in text processing. We see a similar a revolution coming in visual data processing. LandingAI is developing cutting-edge technologies to help customers process visual data in numerous sectors including manufacturing, industrial automation, life sciences, agriculture, geo-spatial imagery, retail, entertainment, and many others. Key technical innovations include our open source VisualAgent, Data-centric AI (the discipline of systematically engineering data to build an AI system), Vision Prompting, and domain-specific Large Vision Models.\\n    Coursera logo\\n    Co-Founder and ChairmanCo-Founder and Chairman\\n    CourseraCoursera Jan 2012 - Present · 13 yrs 1 moJan 2012 to Present · 13 yrs 1 mo Mountain View, CAMountain View, CA\\n            Coursera (NYSE: COUR) envisions a world where anyone, anywhere has the power to transform their lives through learning. Coursera had started with my Machine Learning class and a nascent online education product I had built at Stanford. I served as the company's Co-CEO in the early years with day-to-day responsibility for product, engineering, sales, marketing and operations, and remain Chairman of the company today. Coursera now has over 100M learners, and we partner with more than 275 leading universities and companies to bring flexible, affordable, job-relevant online learning to individuals and organizations. Coursera's offerings include courses, specializations, job-ready professional certificates and degree programs. http://coursera.orgCoursera (NYSE: COUR) envisions a world where anyone, anywhere has the power to transform their lives through learning. Coursera had started with my Machine Learning class and a nascent online education product I had built at Stanford. I served as the company's Co-CEO in the early years with day-to-day responsibility for product, engineering, sales, marketing and operations, and remain Chairman of the company today. Coursera now has over 100M learners, and we partner with more than 275 leading universities and companies to bring flexible, affordable, job-relevant online learning to individuals and organizations. Coursera's offerings include courses, specializations, job-ready professional certificates and degree programs. http://coursera.org\\n    Stanford University logo\\n    Adjunct Professor of Computer ScienceAdjunct Professor of Computer Science\\n    Stanford UniversityStanford University Sep 2002 - Present · 22 yrs 5 mosSep 2002 to Present · 22 yrs 5 mos\\n            I was the Director of the Stanford AI Lab (https://ai.stanford.edu/), home to 20+ faculty members and research groups, and a tenured professor in Stanford's Computer Science department. More recently, I switched to an Adjunct Professor role. \\n\\n            My research group's work focused on AI, Deep Learning, Machine Learning and Robotics. Notable projects include early work in Deep Learning (that led to the founding of Google Brain), early work in online education (that led to the founding of Coursera), ROS (a widely used open-source robotics development platform), and work on Reinforcement Learning for robotic control (such as the Stanford autonomous helicopter). More recent efforts include applications of AI to Healthcare and to Climate Change.I was the Director of the Stanford AI Lab (https://ai.stanford.edu/), home to 20+ faculty members and research groups, and a tenured professor in Stanford's Computer Science department. More recently, I switched to an Adjunct Professor role. My research group's work focused on AI, Deep Learning, Machine Learning and Robotics. Notable projects include early work in Deep Learning (that led to the founding of Google Brain), early work in online education (that led to the founding of Coursera), ROS (a widely used open-source robotics development platform), and work on Reinforcement Learning for robotic control (such as the Stanford autonomous helicopter). More recent efforts include applications of AI to Healthcare and to Climate Change.\\n\\nShow all 8 experiences\\nEducationEducation\\n\\n    University of California, Berkeley logo\\n    University of California, BerkeleyUniversity of California, Berkeley\\n    Doctor of Philosophy - PhD, Computer Science Doctor of Philosophy - PhD, Computer Science 20032003\\n    Massachusetts Institute of Technology logo\\n    Massachusetts Institute of TechnologyMassachusetts Institute of Technology\\n    Master of Science - MS, Electrical Engineering and Computer ScienceMaster of Science - MS, Electrical Engineering and Computer Science 19981998\\n\\nShow all 3 educations\\nSkillsSkills\\n\\n    EducationEducation\\n        Endorsed by 2 colleagues at DeepLearning.AI Endorsed by 2 colleagues at DeepLearning.AI\\n        13 endorsements13 endorsements\\n    Educational TechnologyEducational Technology\\n        Endorsed by 2 colleagues at DeepLearning.AI Endorsed by 2 colleagues at DeepLearning.AI\\n        51 endorsements51 endorsements\\n\\nShow all 4 skills\\nInterestsInterests\\n\\n    Gary Swart profile picture\\n    Gary SwartGary Swart\\n\\n· 2ndSecond degree connection\\nGeneral Partner at Polaris PartnersGeneral Partner at Polaris Partners 120,200 followers120,200 followers\\n\\nBernard Marr profile picture\\nBernard MarrBernard Marr\\n· 2ndSecond degree connection\\n📖 Internationally Best-selling #Author🎤 #KeynoteSpeaker🤖 #Futurist💻 #Business, #Tech & #Strategy Advisor📖 Internationally Best-selling #Author🎤 #KeynoteSpeaker🤖 #Futurist💻 #Business, #Tech & #Strategy Advisor 1,534,396 followers1,534,396 followers\\n\\nShow all Top Voices\\nMore profiles for youMore profiles for you\\n\\n    Ilya Sutskever profile picture\\n    Ilya SutskeverIlya Sutskever\\n    · 2ndSecond degree connection\\n    Co-Founder and Chief Scientist at Safe Superintelligence IncCo-Founder and Chief Scientist at Safe Superintelligence Inc\\n    Ian Goodfellow profile picture\\n    Ian GoodfellowIan Goodfellow\\n    · 2ndSecond degree connection\\n    Research ScientistResearch Scientist\\n        View profile\\n    Shravan Goli profile picture\\n    Shravan GoliShravan Goli\\n    · 2ndSecond degree connection\\n    CEO, President, COO, Investor, Board DirectorCEO, President, COO, Investor, Board Director\\n    Lex Fridman profile picture\\n    Lex FridmanLex Fridman\\n    · 2ndSecond degree connection\\n    Research Scientist, MITResearch Scientist, MIT\\n    Eric Vyacheslav profile picture\\n    Eric VyacheslavEric Vyacheslav\\n    · 2ndSecond degree connection\\n    AI/ML Engineer | Ex-Google | Ex-MITAI/ML Engineer | Ex-Google | Ex-MIT\\n\\nShow all\\nExplore Premium profilesExplore Premium profiles\\n\\n    Cole Green profile picture\\n    Cole GreenCole Green\\n    · 3rdThird degree connection\\n    Biopharmaceutical Engineer at CSLBiopharmaceutical Engineer at CSL\\n        View profile\\n    Atiya Saleha Khan profile picture\\n    Atiya Saleha KhanAtiya Saleha Khan\\n    · 2ndSecond degree connection\\n    Senior Software Engineer, MCPD, ITIL MPSenior Software Engineer, MCPD, ITIL MP\\n    Chris Griffin profile picture\\n    Chris GriffinChris Griffin\\n    · 2ndSecond degree connection\\n    Staff IT EngineerStaff IT Engineer\\n    Khushee Shrestha profile picture\\n    Khushee ShresthaKhushee Shrestha\\n    · 2ndSecond degree connection\\n    Machine Learning Engineer @ Brainfish | Master of Technology, Artificial IntelligenceMachine Learning Engineer @ Brainfish | Master of Technology, Artificial Intelligence\\n\\nTry premium to stand outTry premium to stand out\\nPeople you may knowPeople you may know\\n\\nFrom Andrew's job titleFrom Andrew's job title\\n\\n    Jesse N. Clark profile picture\\n    Jesse N. ClarkJesse N. Clark\\n    Co-Founder & CTO 🦛 @marqo.ai 🦛Co-Founder & CTO 🦛 @marqo.ai 🦛\\n    Tai Elliott profile picture\\n    Tai ElliottTai Elliott\\n    Founder @ Machine Learning LabsFounder @ Machine Learning Labs\\n    Patrick Darmon 🎗️ profile picture\\n    Patrick Darmon 🎗️Patrick Darmon 🎗️\\n    Partner & Co-FounderPartner & Co-Founder\\n    Brianda Yáñez Arrondo profile picture\\n    Brianda Yáñez ArrondoBrianda Yáñez Arrondo\\n    Emprendedora social. Ciencia de datos & IA. Ética, transparencia, perspectiva social y medioambientalEmprendedora social. Ciencia de datos & IA. Ética, transparencia, perspectiva social y medioambiental\\n    Matt Brandwein profile picture\\n    Matt BrandweinMatt Brandwein\\n    Co-Founder at Hidden DoorCo-Founder at Hidden Door\\n\\nShow all\\nYou might likeYou might like\\n\\nNewsletters for youNewsletters for you\\n\\n    Image for Research and innovation news\\n    Research and innovation news Research and innovation news \\n    Monthly digest of research and innovation news at the University of Oxford Monthly digest of research and innovation news at the University of Oxford \\n    Published monthlyPublished monthly\\n        University of Oxford University of Oxford\\n    Image for Spark\\n    SparkSpark\\n    Tips and insights from TED events — plus inspiring extras from our global communityTips and insights from TED events — plus inspiring extras from our global community\\n    Published monthlyPublished monthly\\n        TED Conferences TED Conferences\\n\\nShow all\\nHugo Bowne-Anderson\\nStatus is online\\nPage inboxes\\n8 8 new notifications\\n\"]"
      ]
     },
     "execution_count": 22,
     "metadata": {},
     "output_type": "execute_result"
    }
   ],
   "source": [
    "documents = [fn.read_text() for fn in Path(\"data\").iterdir()]\n",
    "documents"
   ]
  },
  {
   "cell_type": "code",
   "execution_count": null,
   "metadata": {},
   "outputs": [],
   "source": []
  },
  {
   "cell_type": "code",
   "execution_count": null,
   "metadata": {},
   "outputs": [],
   "source": []
  }
 ],
 "metadata": {
  "kernelspec": {
   "display_name": ".venv",
   "language": "python",
   "name": "python3"
  },
  "language_info": {
   "codemirror_mode": {
    "name": "ipython",
    "version": 3
   },
   "file_extension": ".py",
   "mimetype": "text/x-python",
   "name": "python",
   "nbconvert_exporter": "python",
   "pygments_lexer": "ipython3",
   "version": "3.13.1"
  }
 },
 "nbformat": 4,
 "nbformat_minor": 2
}
