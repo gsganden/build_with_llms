{
 "cells": [
  {
   "cell_type": "code",
   "execution_count": 10,
   "metadata": {},
   "outputs": [],
   "source": [
    "from dotenv import load_dotenv\n",
    "from google import genai\n",
    "from pathlib import Path"
   ]
  },
  {
   "cell_type": "code",
   "execution_count": 4,
   "metadata": {},
   "outputs": [
    {
     "data": {
      "text/plain": [
       "True"
      ]
     },
     "execution_count": 4,
     "metadata": {},
     "output_type": "execute_result"
    }
   ],
   "source": [
    "load_dotenv(\"../.env\")"
   ]
  },
  {
   "cell_type": "code",
   "execution_count": 6,
   "metadata": {},
   "outputs": [
    {
     "data": {
      "text/plain": [
       "<google.genai.client.Client at 0x12297b610>"
      ]
     },
     "execution_count": 6,
     "metadata": {},
     "output_type": "execute_result"
    }
   ],
   "source": [
    "client = genai.Client()\n",
    "client"
   ]
  },
  {
   "cell_type": "code",
   "execution_count": 7,
   "metadata": {},
   "outputs": [
    {
     "data": {
      "text/plain": [
       "GenerateContentResponse(candidates=[Candidate(content=Content(parts=[Part(video_metadata=None, thought=None, code_execution_result=None, executable_code=None, file_data=None, function_call=None, function_response=None, inline_data=None, text='Alright, let\\'s break down how Artificial Intelligence (AI) works.  Think of it as teaching a computer to think and learn like a human, but using algorithms and data instead of brains and experiences.  Here\\'s a breakdown:\\n\\n**1. Core Concepts: Learning and Adapting**\\n\\n*   **Learning:** The core idea behind AI is that a system can learn from data, without being explicitly programmed for every single scenario. This means the AI can improve its performance over time as it\\'s exposed to more information.\\n*   **Adaptation:** AI systems can adjust their behavior based on new data or changing environments. This is crucial for dealing with real-world situations, which are often unpredictable.\\n\\n**2. The Building Blocks: Data and Algorithms**\\n\\n*   **Data:** Data is the fuel that powers AI. It comes in many forms:\\n    *   **Structured Data:** Organized data, like tables in a database (think customer information, sales figures). Easy for computers to understand.\\n    *   **Unstructured Data:** Less organized data, like text, images, audio, and video. Requires more sophisticated AI techniques to analyze.\\n*   **Algorithms:** Algorithms are sets of instructions that tell the computer how to process the data and learn from it. These can range from simple rules to complex mathematical models. Common types of algorithms in AI include:\\n\\n    *   **Machine Learning (ML):** A subset of AI focused on enabling systems to learn from data without explicit programming. ML algorithms find patterns and make predictions.\\n        *   **Supervised Learning:** The algorithm is trained on a labeled dataset, meaning the data has both the input and the desired output (e.g., images of cats labeled as \"cat\"). The algorithm learns to map the inputs to the correct outputs.\\n        *   **Unsupervised Learning:** The algorithm is trained on an unlabeled dataset. It tries to find hidden patterns or structures in the data (e.g., grouping customers into segments based on their purchasing behavior).\\n        *   **Reinforcement Learning:** The algorithm learns by interacting with an environment and receiving rewards or penalties for its actions (e.g., training a robot to navigate a maze).\\n    *   **Deep Learning (DL):** A subset of ML that uses artificial neural networks with multiple layers (hence \"deep\"). DL is particularly good at processing unstructured data like images and text.\\n        *   **Neural Networks:** Inspired by the structure of the human brain, neural networks consist of interconnected nodes (neurons) that process information and pass it on to other nodes. The connections between nodes have weights that are adjusted during training to improve performance.\\n\\n**3. How AI Systems are Built**\\n\\nHere\\'s a simplified view of the AI development process:\\n\\n1.  **Data Collection:** Gathering a large and relevant dataset.  The quality and quantity of data are critical.\\n2.  **Data Preparation:** Cleaning, preprocessing, and transforming the data into a format suitable for the chosen algorithm. This can involve handling missing values, removing noise, and converting data types.\\n3.  **Algorithm Selection:** Choosing the appropriate AI algorithm based on the problem, data type, and desired outcome.\\n4.  **Model Training:** Feeding the prepared data into the algorithm so it can learn the patterns and relationships. This involves adjusting the parameters of the model to minimize errors.\\n5.  **Model Evaluation:** Testing the trained model on a separate dataset to assess its performance and accuracy.  Metrics like accuracy, precision, and recall are used.\\n6.  **Deployment:** Integrating the trained model into a real-world application or system.\\n7.  **Monitoring and Maintenance:** Continuously monitoring the model\\'s performance and retraining it with new data to ensure it remains accurate and relevant.\\n\\n**4. Different Types of AI**\\n\\n*   **Narrow or Weak AI:** Designed to perform a specific task (e.g., playing chess, recognizing faces). Most AI systems today fall into this category.  They excel at their designated task but lack general intelligence.\\n*   **General or Strong AI:** Possesses human-level intelligence and can perform any intellectual task that a human being can. This is still largely theoretical.\\n*   **Super AI:** Surpasses human intelligence in all aspects, including creativity, problem-solving, and general wisdom. This is also a theoretical concept often explored in science fiction.\\n\\n**5. Examples of AI in Action**\\n\\n*   **Recommendation Systems:**  Netflix, Amazon, and Spotify use AI to suggest movies, products, and music based on your viewing or purchasing history.\\n*   **Image Recognition:**  Used in self-driving cars to identify objects, facial recognition software, and medical image analysis.\\n*   **Natural Language Processing (NLP):**  Powers chatbots, language translation tools, and sentiment analysis.\\n*   **Robotics:**  Used in manufacturing, healthcare, and exploration.\\n*   **Fraud Detection:** Banks and credit card companies use AI to detect suspicious transactions.\\n*   **Healthcare:** Assisting doctors with diagnosis, drug discovery, and personalized treatment plans.\\n\\n**Simplified Analogy:**\\n\\nImagine you\\'re teaching a dog a new trick, like \"fetch.\"\\n\\n*   **Data:** You show the dog the ball (input) and say \"fetch\" (instruction) and then reward the dog when it brings it back. You repeat this many times.\\n*   **Algorithm:** The dog\\'s brain is trying to create an algorithm. It\\'s associating the sight of the ball, the sound of \"fetch,\" and the reward with the action of running and retrieving.\\n*   **Learning:** With each repetition, the dog\\'s algorithm becomes more refined. It learns to ignore distractions and focus on the essential elements of the task.\\n*   **AI:**  The computer is the dog. The data is what you show and tell it. The algorithm is how the computer learns.\\n\\n**Key Takeaways**\\n\\n*   AI is about enabling computers to learn, reason, and solve problems like humans.\\n*   Data is essential for training AI models.\\n*   Algorithms are the instructions that guide the AI in processing data.\\n*   Different types of AI exist, with varying levels of intelligence and capabilities.\\n*   AI is transforming many industries and aspects of our lives.\\n\\nIt\\'s a rapidly evolving field, and this explanation provides a general overview. As you dive deeper, you\\'ll encounter more specialized concepts and techniques.\\n')], role='model'), citation_metadata=CitationMetadata(citations=[Citation(end_index=1472, license=None, publication_date=None, start_index=1346, title=None, uri=None), Citation(end_index=2113, license=None, publication_date=None, start_index=1963, title=None, uri=None), Citation(end_index=2169, license=None, publication_date=None, start_index=2046, title=None, uri=None), Citation(end_index=2532, license=None, publication_date=None, start_index=2390, title=None, uri='https://www.pcolib.com/blog/top-5-trending-technologies-in-2023-a-glimpse-into-the-future-of-tech')]), finish_message=None, token_count=None, finish_reason=<FinishReason.STOP: 'STOP'>, avg_logprobs=-0.34213649658929735, grounding_metadata=None, index=None, logprobs_result=None, safety_ratings=None)], create_time=None, response_id=None, model_version='gemini-2.0-flash', prompt_feedback=None, usage_metadata=GenerateContentResponseUsageMetadata(cache_tokens_details=None, cached_content_token_count=None, candidates_token_count=1344, candidates_tokens_details=[ModalityTokenCount(modality=<MediaModality.TEXT: 'TEXT'>, token_count=1344)], prompt_token_count=4, prompt_tokens_details=[ModalityTokenCount(modality=<MediaModality.TEXT: 'TEXT'>, token_count=4)], thoughts_token_count=None, tool_use_prompt_token_count=None, tool_use_prompt_tokens_details=None, total_token_count=1348, traffic_type=None), automatic_function_calling_history=[], parsed=None)"
      ]
     },
     "execution_count": 7,
     "metadata": {},
     "output_type": "execute_result"
    }
   ],
   "source": [
    "response = client.models.generate_content(\n",
    "    model=\"gemini-2.0-flash\",\n",
    "    contents=\"Explain how AI works\",\n",
    ")\n",
    "response"
   ]
  },
  {
   "cell_type": "code",
   "execution_count": 9,
   "metadata": {},
   "outputs": [
    {
     "name": "stdout",
     "output_type": "stream",
     "text": [
      "Alright, let's break down how Artificial Intelligence (AI) works.  Think of it as teaching a computer to think and learn like a human, but using algorithms and data instead of brains and experiences.  Here's a breakdown:\n",
      "\n",
      "**1. Core Concepts: Learning and Adapting**\n",
      "\n",
      "*   **Learning:** The core idea behind AI is that a system can learn from data, without being explicitly programmed for every single scenario. This means the AI can improve its performance over time as it's exposed to more information.\n",
      "*   **Adaptation:** AI systems can adjust their behavior based on new data or changing environments. This is crucial for dealing with real-world situations, which are often unpredictable.\n",
      "\n",
      "**2. The Building Blocks: Data and Algorithms**\n",
      "\n",
      "*   **Data:** Data is the fuel that powers AI. It comes in many forms:\n",
      "    *   **Structured Data:** Organized data, like tables in a database (think customer information, sales figures). Easy for computers to understand.\n",
      "    *   **Unstructured Data:** Less organized data, like text, images, audio, and video. Requires more sophisticated AI techniques to analyze.\n",
      "*   **Algorithms:** Algorithms are sets of instructions that tell the computer how to process the data and learn from it. These can range from simple rules to complex mathematical models. Common types of algorithms in AI include:\n",
      "\n",
      "    *   **Machine Learning (ML):** A subset of AI focused on enabling systems to learn from data without explicit programming. ML algorithms find patterns and make predictions.\n",
      "        *   **Supervised Learning:** The algorithm is trained on a labeled dataset, meaning the data has both the input and the desired output (e.g., images of cats labeled as \"cat\"). The algorithm learns to map the inputs to the correct outputs.\n",
      "        *   **Unsupervised Learning:** The algorithm is trained on an unlabeled dataset. It tries to find hidden patterns or structures in the data (e.g., grouping customers into segments based on their purchasing behavior).\n",
      "        *   **Reinforcement Learning:** The algorithm learns by interacting with an environment and receiving rewards or penalties for its actions (e.g., training a robot to navigate a maze).\n",
      "    *   **Deep Learning (DL):** A subset of ML that uses artificial neural networks with multiple layers (hence \"deep\"). DL is particularly good at processing unstructured data like images and text.\n",
      "        *   **Neural Networks:** Inspired by the structure of the human brain, neural networks consist of interconnected nodes (neurons) that process information and pass it on to other nodes. The connections between nodes have weights that are adjusted during training to improve performance.\n",
      "\n",
      "**3. How AI Systems are Built**\n",
      "\n",
      "Here's a simplified view of the AI development process:\n",
      "\n",
      "1.  **Data Collection:** Gathering a large and relevant dataset.  The quality and quantity of data are critical.\n",
      "2.  **Data Preparation:** Cleaning, preprocessing, and transforming the data into a format suitable for the chosen algorithm. This can involve handling missing values, removing noise, and converting data types.\n",
      "3.  **Algorithm Selection:** Choosing the appropriate AI algorithm based on the problem, data type, and desired outcome.\n",
      "4.  **Model Training:** Feeding the prepared data into the algorithm so it can learn the patterns and relationships. This involves adjusting the parameters of the model to minimize errors.\n",
      "5.  **Model Evaluation:** Testing the trained model on a separate dataset to assess its performance and accuracy.  Metrics like accuracy, precision, and recall are used.\n",
      "6.  **Deployment:** Integrating the trained model into a real-world application or system.\n",
      "7.  **Monitoring and Maintenance:** Continuously monitoring the model's performance and retraining it with new data to ensure it remains accurate and relevant.\n",
      "\n",
      "**4. Different Types of AI**\n",
      "\n",
      "*   **Narrow or Weak AI:** Designed to perform a specific task (e.g., playing chess, recognizing faces). Most AI systems today fall into this category.  They excel at their designated task but lack general intelligence.\n",
      "*   **General or Strong AI:** Possesses human-level intelligence and can perform any intellectual task that a human being can. This is still largely theoretical.\n",
      "*   **Super AI:** Surpasses human intelligence in all aspects, including creativity, problem-solving, and general wisdom. This is also a theoretical concept often explored in science fiction.\n",
      "\n",
      "**5. Examples of AI in Action**\n",
      "\n",
      "*   **Recommendation Systems:**  Netflix, Amazon, and Spotify use AI to suggest movies, products, and music based on your viewing or purchasing history.\n",
      "*   **Image Recognition:**  Used in self-driving cars to identify objects, facial recognition software, and medical image analysis.\n",
      "*   **Natural Language Processing (NLP):**  Powers chatbots, language translation tools, and sentiment analysis.\n",
      "*   **Robotics:**  Used in manufacturing, healthcare, and exploration.\n",
      "*   **Fraud Detection:** Banks and credit card companies use AI to detect suspicious transactions.\n",
      "*   **Healthcare:** Assisting doctors with diagnosis, drug discovery, and personalized treatment plans.\n",
      "\n",
      "**Simplified Analogy:**\n",
      "\n",
      "Imagine you're teaching a dog a new trick, like \"fetch.\"\n",
      "\n",
      "*   **Data:** You show the dog the ball (input) and say \"fetch\" (instruction) and then reward the dog when it brings it back. You repeat this many times.\n",
      "*   **Algorithm:** The dog's brain is trying to create an algorithm. It's associating the sight of the ball, the sound of \"fetch,\" and the reward with the action of running and retrieving.\n",
      "*   **Learning:** With each repetition, the dog's algorithm becomes more refined. It learns to ignore distractions and focus on the essential elements of the task.\n",
      "*   **AI:**  The computer is the dog. The data is what you show and tell it. The algorithm is how the computer learns.\n",
      "\n",
      "**Key Takeaways**\n",
      "\n",
      "*   AI is about enabling computers to learn, reason, and solve problems like humans.\n",
      "*   Data is essential for training AI models.\n",
      "*   Algorithms are the instructions that guide the AI in processing data.\n",
      "*   Different types of AI exist, with varying levels of intelligence and capabilities.\n",
      "*   AI is transforming many industries and aspects of our lives.\n",
      "\n",
      "It's a rapidly evolving field, and this explanation provides a general overview. As you dive deeper, you'll encounter more specialized concepts and techniques.\n",
      "\n"
     ]
    }
   ],
   "source": [
    "print(response.text)"
   ]
  },
  {
   "cell_type": "code",
   "execution_count": 11,
   "metadata": {},
   "outputs": [
    {
     "data": {
      "text/plain": [
       "[\"\\n0 notifications total\\n\\n    new feed updates notifications\\n\\nHome\\nMy Network\\nJobs\\nMessaging\\nNotifications\\n\\n    Advertise\\n\\nAndrew Ng\\n\\nAndrew has a premium account\\nClick to upgrade to Premium\\nAndrew Ng\\n2nd degree connection 2nd\\nFounder of DeepLearning.AI; Managing General Partner of AI Fund; Exec Chairman of Landing AI\\n\\nPalo Alto, California, United States Contact info\\n\\n    1,880,585 followers\\n\\nSebastian Raschka, PhD, Joe Reis, and 7 other mutual connectionsSebastian Raschka, PhD, Joe Reis, and 7 other mutual connections\\n\\nAboutAbout\\nPersonal home page: http://andrewng.org Personal home page: http://andrewng.org \\nActivityActivity\\n\\n1,880,585 followers1,880,585 followers\\nLoaded 3 Posts posts\\n\\n    Andrew Ng posted this • 3d3d\\n    Despite having worked on AI since I was a teenager, I’m now more excited than ever about what we can do with it, especially in building AI applications. Sparks are flying in our field, and 2025 will be a great year for building! One aspect of AI that I’m particularly excited about is how easy it is to build software prototypes. AI is lowering the cost of software development and expanding the set of possible applications. While it can help extend or maintain large software systems, it shines particularly in building prototypes and other simple applications quickly. If you want to build an app to print out flash cards for your kids (I just did this in a couple of hours with o1’s help), or write an application that monitors foreign exchange rates to manage international bank accounts (a real example from DeepLearning.AI’s finance team), or analyzes user reviews automatically to quickly flag problems with your products (DeepLearning.AI's content team does this), it is now possible to build these applications quickly through AI-assisted coding. I find AI-assisted coding especially effective for prototyping because (i) stand-alone prototypes require relatively little context and software integration and (ii) prototypes in alpha testing usually don’t have to be reliable. While generative AI also helps with engineering large, mission-critical software systems, the improvements in productivity there aren't as dramatic, because it’s challenging to give the AI system all the context it needs to navigate a large codebase and also to make sure the generated code is reliable (for example, covering all important corner cases). Until now, a huge friction point for getting a prototype into users’ hands has been deployment. Platforms like Bolt, Replit Agent, Vercel V0 use generative AI with agentic workflows to improve code quality, but more importantly, they also help deploy generated applications directly. (While I find these systems useful, my own workflow typically uses an LLM to design the system architecture and then generate code, one module at a time if there are multiple large modules. Then I test each module, edit the code further if needed — sometimes using an AI-enabled IDE like Cursor — and finally assemble the modules.) Building prototypes quickly is an efficient way to test ideas and get tasks done. It’s also a great way to learn. Perhaps most importantly, it’s really fun! (At least I think it is. 😄) [Reached length limit; full text: https://lnkd.in/gki7_qGv ], Happy New Year! Hopes For 2025 With Mustafa Suleyman, Audrey Tang, Albert Gu, Hanno Basse, and more..., deeplearning.ai\\n    Despite having worked on AI since I was a teenager, I’m now more excited than ever about what we can do with it, especially in building AI applications. Sparks are flying in our field, and 2025 will be a great year for building!\\n\\n    One aspect of AI that I’m particularly excited about is how easy it is to build software prototypes. AI is lowering the cost of software development and expanding the set of possible applications. While it can help extend or maintain large software systems, it shines particularly in building prototypes and other simple applications quickly.\\n\\n    If you want to build an app to print out flash cards for your kids (I just did this in a couple of hours with o1’s help), or write an application that monitors foreign exchange rates to manage international bank accounts (a real example from DeepLearning.AI’s finance team), or analyzes user reviews automatically to quickly flag problems with your products (DeepLearning.AI's content team does this), it is now possible to build these applications quickly through AI-assisted coding.\\n\\n    I find AI-assisted coding especially effective for prototyping because (i) stand-alone prototypes require relatively little context and software integration and (ii) prototypes in alpha testing usually don’t have to be reliable. While generative AI also helps with engineering large, mission-critical software systems, the improvements in productivity there aren't as dramatic, because it’s challenging to give the AI system all the context it needs to navigate a large codebase and also to make sure the generated code is reliable (for example, covering all important corner cases).\\n\\n    Until now, a huge friction point for getting a prototype into users’ hands has been deployment. Platforms like Bolt, Replit Agent, Vercel V0 use generative AI with agentic workflows to improve code quality, but more importantly, they also help deploy generated applications directly. (While I find these systems useful, my own workflow typically uses an LLM to design the system architecture and then generate code, one module at a time if there are multiple large modules. Then I test each module, edit the code further if needed — sometimes using an AI-enabled IDE like Cursor — and finally assemble the modules.)\\n\\n    Building prototypes quickly is an efficient way to test ideas and get tasks done. It’s also a great way to learn. Perhaps most importantly, it’s really fun! (At least I think it is. 😄)\\n\\n    [Reached length limit; full text: https://lnkd.in/gki7_qGv ] \\n\\nHappy New Year! Hopes For 2025 With Mustafa Suleyman, Audrey Tang, Albert Gu, Hanno Basse, and more...\\ndeeplearning.ai\\n\\nAndrew Ng posted this • 4d4d\\nHappy sum(i**3 for i in range(10)) !\\nHappy sum(i**3 for i in range(10)) ! \\n\\nAndrew Ng posted this • 5d5d\\nAs we wrap up 2024, this year's final edition of The Batch summarizes some of the top stories of the year: - Agents ascendant: The growth of agentic workflows - Prices tumble: Rapidly falling LLM token prices - Generative video takes off - Smaller is beautiful: Small language models - Alternatives to acquisitions See the full articles here: https://lnkd.in/gNZXH8tk , Top AI Stories of 2024! Agents Rise, Prices Fall, Models Shrink, and more..., deeplearning.ai\\nAs we wrap up 2024, this year's final edition of The Batch summarizes some of the top stories of the year:\\n- Agents ascendant: The growth of agentic workflows\\n- Prices tumble: Rapidly falling LLM token prices\\n- Generative video takes off \\n- Smaller is beautiful: Small language models\\n- Alternatives to acquisitions \\n\\nSee the full articles here: https://lnkd.in/gNZXH8tk \\nTop AI Stories of 2024! Agents Rise, Prices Fall, Models Shrink, and more...\\ndeeplearning.ai\\n\\nShow all posts\\nExperienceExperience\\n\\n    DeepLearning.AI logo\\n    FounderFounder\\n    DeepLearning.AIDeepLearning.AI Jun 2017 - Present · 7 yrs 8 mosJun 2017 to Present · 7 yrs 8 mos Palo Alto, California, United StatesPalo Alto, California, United States\\n            DeepLearning.AI provides technical training on Generative AI, Machine Learning, Deep Learning, and other topics. We also offer a widely read newsletter, The Batch (thebatch.ai), that covers what matters in AI right now. \\n\\n            Our courses are often created with industry-leading AI companies (AWS, Google, OpenAI, etc.), and we offer both short courses that can be completed in an hour, and longer courses and specializations hosted on Coursera that give you a solid foundation in some aspect of AI. These courses are designed to offer hands-on practice with AI technologies, and you will gain practical, job-ready skills. \\n\\n            Whether you are just starting out in AI or seeking to further an existing career, come see if we can help, at http://deeplearning.ai!DeepLearning.AI provides technical training on Generative AI, Machine Learning, Deep Learning, and other topics. We also offer a widely read newsletter, The Batch (thebatch.ai), that covers what matters in AI right now. Our courses are often created with industry-leading AI companies (AWS, Google, OpenAI, etc.), and we offer both short courses that can be completed in an hour, and longer courses and specializations hosted on Coursera that give you a solid foundation in some aspect of AI. These courses are designed to offer hands-on practice with AI technologies, and you will gain practical, job-ready skills. Whether you are just starting out in AI or seeking to further an existing career, come see if we can help, at http://deeplearning.ai!\\n    AI Fund logo\\n    Managing General PartnerManaging General Partner\\n    AI FundAI Fund Jan 2018 - Present · 7 yrs 1 moJan 2018 to Present · 7 yrs 1 mo\\n            AI Fund is a venture studio that partners with entrepreneurs to build AI companies that move humanity forward. We don't just provide capital, we actively help build the company: we seek to play at least a minor co-founder role in the companies we engage in. \\n\\n            After identifying a concrete startup idea, we actively help the founder validate both customer need and technical feasibility (often collaborating to build a technical prototype), help shape the AI technology roadmap, the go-to-market, and help recruit the key leaders, including the AI engineering team. \\n\\n            Because AI is a general purpose technology that can be applied to numerous sectors -- including ones that we at AI Fund don't have expertise in -- we partner with subject matter experts (SMEs) in logistics, healthcare, education, relationships, finance, and other sectors. By leveraging our AI expertise and the SME's expertise in an important application sector, we can build a promising AI business in that sector. \\n\\n            We take responsible AI seriously and will, on ethical grounds, choose not to pursue projects that we otherwise assess to be financially sound.AI Fund is a venture studio that partners with entrepreneurs to build AI companies that move humanity forward. We don't just provide capital, we actively help build the company: we seek to play at least a minor co-founder role in the companies we engage in. After identifying a concrete startup idea, we actively help the founder validate both customer need and technical feasibility (often collaborating to build a technical prototype), help shape the AI technology roadmap, the go-to-market, and help recruit the key leaders, including the AI engineering team. Because AI is a general purpose technology that can be applied to numerous sectors -- including ones that we at AI Fund don't have expertise in -- we partner with subject matter experts (SMEs) in logistics, healthcare, education, relationships, finance, and other sectors. By leveraging our AI expertise and the SME's expertise in an important application sector, we can build a promising AI business in that sector. We take responsible AI seriously and will, on ethical grounds, choose not to pursue projects that we otherwise assess to be financially sound.\\n    LandingAI logo\\n    Executive Chairman (previously CEO) Executive Chairman (previously CEO) \\n    LandingAILandingAI Oct 2017 - Present · 7 yrs 4 mosOct 2017 to Present · 7 yrs 4 mos Palo Alto, CaliforniaPalo Alto, California\\n            LandingAI delivers cutting-edge Visual AI solutions that empower customers to unlock the value of visual data.\\n\\n            Enabled by the transformer neural network (created by the Google Brain team), the Generative AI revolution has arrived in text processing. We see a similar a revolution coming in visual data processing. LandingAI is developing cutting-edge technologies to help customers process visual data in numerous sectors including manufacturing, industrial automation, life sciences, agriculture, geo-spatial imagery, retail, entertainment, and many others. \\n\\n            Key technical innovations include our open source VisualAgent, Data-centric AI (the discipline of systematically engineering data to build an AI system), Vision Prompting, and domain-specific Large Vision Models.LandingAI delivers cutting-edge Visual AI solutions that empower customers to unlock the value of visual data. Enabled by the transformer neural network (created by the Google Brain team), the Generative AI revolution has arrived in text processing. We see a similar a revolution coming in visual data processing. LandingAI is developing cutting-edge technologies to help customers process visual data in numerous sectors including manufacturing, industrial automation, life sciences, agriculture, geo-spatial imagery, retail, entertainment, and many others. Key technical innovations include our open source VisualAgent, Data-centric AI (the discipline of systematically engineering data to build an AI system), Vision Prompting, and domain-specific Large Vision Models.\\n    Coursera logo\\n    Co-Founder and ChairmanCo-Founder and Chairman\\n    CourseraCoursera Jan 2012 - Present · 13 yrs 1 moJan 2012 to Present · 13 yrs 1 mo Mountain View, CAMountain View, CA\\n            Coursera (NYSE: COUR) envisions a world where anyone, anywhere has the power to transform their lives through learning. Coursera had started with my Machine Learning class and a nascent online education product I had built at Stanford. I served as the company's Co-CEO in the early years with day-to-day responsibility for product, engineering, sales, marketing and operations, and remain Chairman of the company today. Coursera now has over 100M learners, and we partner with more than 275 leading universities and companies to bring flexible, affordable, job-relevant online learning to individuals and organizations. Coursera's offerings include courses, specializations, job-ready professional certificates and degree programs. http://coursera.orgCoursera (NYSE: COUR) envisions a world where anyone, anywhere has the power to transform their lives through learning. Coursera had started with my Machine Learning class and a nascent online education product I had built at Stanford. I served as the company's Co-CEO in the early years with day-to-day responsibility for product, engineering, sales, marketing and operations, and remain Chairman of the company today. Coursera now has over 100M learners, and we partner with more than 275 leading universities and companies to bring flexible, affordable, job-relevant online learning to individuals and organizations. Coursera's offerings include courses, specializations, job-ready professional certificates and degree programs. http://coursera.org\\n    Stanford University logo\\n    Adjunct Professor of Computer ScienceAdjunct Professor of Computer Science\\n    Stanford UniversityStanford University Sep 2002 - Present · 22 yrs 5 mosSep 2002 to Present · 22 yrs 5 mos\\n            I was the Director of the Stanford AI Lab (https://ai.stanford.edu/), home to 20+ faculty members and research groups, and a tenured professor in Stanford's Computer Science department. More recently, I switched to an Adjunct Professor role. \\n\\n            My research group's work focused on AI, Deep Learning, Machine Learning and Robotics. Notable projects include early work in Deep Learning (that led to the founding of Google Brain), early work in online education (that led to the founding of Coursera), ROS (a widely used open-source robotics development platform), and work on Reinforcement Learning for robotic control (such as the Stanford autonomous helicopter). More recent efforts include applications of AI to Healthcare and to Climate Change.I was the Director of the Stanford AI Lab (https://ai.stanford.edu/), home to 20+ faculty members and research groups, and a tenured professor in Stanford's Computer Science department. More recently, I switched to an Adjunct Professor role. My research group's work focused on AI, Deep Learning, Machine Learning and Robotics. Notable projects include early work in Deep Learning (that led to the founding of Google Brain), early work in online education (that led to the founding of Coursera), ROS (a widely used open-source robotics development platform), and work on Reinforcement Learning for robotic control (such as the Stanford autonomous helicopter). More recent efforts include applications of AI to Healthcare and to Climate Change.\\n\\nShow all 8 experiences\\nEducationEducation\\n\\n    University of California, Berkeley logo\\n    University of California, BerkeleyUniversity of California, Berkeley\\n    Doctor of Philosophy - PhD, Computer Science Doctor of Philosophy - PhD, Computer Science 20032003\\n    Massachusetts Institute of Technology logo\\n    Massachusetts Institute of TechnologyMassachusetts Institute of Technology\\n    Master of Science - MS, Electrical Engineering and Computer ScienceMaster of Science - MS, Electrical Engineering and Computer Science 19981998\\n\\nShow all 3 educations\\nSkillsSkills\\n\\n    EducationEducation\\n        Endorsed by 2 colleagues at DeepLearning.AI Endorsed by 2 colleagues at DeepLearning.AI\\n        13 endorsements13 endorsements\\n    Educational TechnologyEducational Technology\\n        Endorsed by 2 colleagues at DeepLearning.AI Endorsed by 2 colleagues at DeepLearning.AI\\n        51 endorsements51 endorsements\\n\\nShow all 4 skills\\nInterestsInterests\\n\\n    Gary Swart profile picture\\n    Gary SwartGary Swart\\n\\n· 2ndSecond degree connection\\nGeneral Partner at Polaris PartnersGeneral Partner at Polaris Partners 120,200 followers120,200 followers\\n\\nBernard Marr profile picture\\nBernard MarrBernard Marr\\n· 2ndSecond degree connection\\n📖 Internationally Best-selling #Author🎤 #KeynoteSpeaker🤖 #Futurist💻 #Business, #Tech & #Strategy Advisor📖 Internationally Best-selling #Author🎤 #KeynoteSpeaker🤖 #Futurist💻 #Business, #Tech & #Strategy Advisor 1,534,396 followers1,534,396 followers\\n\\nShow all Top Voices\\nMore profiles for youMore profiles for you\\n\\n    Ilya Sutskever profile picture\\n    Ilya SutskeverIlya Sutskever\\n    · 2ndSecond degree connection\\n    Co-Founder and Chief Scientist at Safe Superintelligence IncCo-Founder and Chief Scientist at Safe Superintelligence Inc\\n    Ian Goodfellow profile picture\\n    Ian GoodfellowIan Goodfellow\\n    · 2ndSecond degree connection\\n    Research ScientistResearch Scientist\\n        View profile\\n    Shravan Goli profile picture\\n    Shravan GoliShravan Goli\\n    · 2ndSecond degree connection\\n    CEO, President, COO, Investor, Board DirectorCEO, President, COO, Investor, Board Director\\n    Lex Fridman profile picture\\n    Lex FridmanLex Fridman\\n    · 2ndSecond degree connection\\n    Research Scientist, MITResearch Scientist, MIT\\n    Eric Vyacheslav profile picture\\n    Eric VyacheslavEric Vyacheslav\\n    · 2ndSecond degree connection\\n    AI/ML Engineer | Ex-Google | Ex-MITAI/ML Engineer | Ex-Google | Ex-MIT\\n\\nShow all\\nExplore Premium profilesExplore Premium profiles\\n\\n    Cole Green profile picture\\n    Cole GreenCole Green\\n    · 3rdThird degree connection\\n    Biopharmaceutical Engineer at CSLBiopharmaceutical Engineer at CSL\\n        View profile\\n    Atiya Saleha Khan profile picture\\n    Atiya Saleha KhanAtiya Saleha Khan\\n    · 2ndSecond degree connection\\n    Senior Software Engineer, MCPD, ITIL MPSenior Software Engineer, MCPD, ITIL MP\\n    Chris Griffin profile picture\\n    Chris GriffinChris Griffin\\n    · 2ndSecond degree connection\\n    Staff IT EngineerStaff IT Engineer\\n    Khushee Shrestha profile picture\\n    Khushee ShresthaKhushee Shrestha\\n    · 2ndSecond degree connection\\n    Machine Learning Engineer @ Brainfish | Master of Technology, Artificial IntelligenceMachine Learning Engineer @ Brainfish | Master of Technology, Artificial Intelligence\\n\\nTry premium to stand outTry premium to stand out\\nPeople you may knowPeople you may know\\n\\nFrom Andrew's job titleFrom Andrew's job title\\n\\n    Jesse N. Clark profile picture\\n    Jesse N. ClarkJesse N. Clark\\n    Co-Founder & CTO 🦛 @marqo.ai 🦛Co-Founder & CTO 🦛 @marqo.ai 🦛\\n    Tai Elliott profile picture\\n    Tai ElliottTai Elliott\\n    Founder @ Machine Learning LabsFounder @ Machine Learning Labs\\n    Patrick Darmon 🎗️ profile picture\\n    Patrick Darmon 🎗️Patrick Darmon 🎗️\\n    Partner & Co-FounderPartner & Co-Founder\\n    Brianda Yáñez Arrondo profile picture\\n    Brianda Yáñez ArrondoBrianda Yáñez Arrondo\\n    Emprendedora social. Ciencia de datos & IA. Ética, transparencia, perspectiva social y medioambientalEmprendedora social. Ciencia de datos & IA. Ética, transparencia, perspectiva social y medioambiental\\n    Matt Brandwein profile picture\\n    Matt BrandweinMatt Brandwein\\n    Co-Founder at Hidden DoorCo-Founder at Hidden Door\\n\\nShow all\\nYou might likeYou might like\\n\\nNewsletters for youNewsletters for you\\n\\n    Image for Research and innovation news\\n    Research and innovation news Research and innovation news \\n    Monthly digest of research and innovation news at the University of Oxford Monthly digest of research and innovation news at the University of Oxford \\n    Published monthlyPublished monthly\\n        University of Oxford University of Oxford\\n    Image for Spark\\n    SparkSpark\\n    Tips and insights from TED events — plus inspiring extras from our global communityTips and insights from TED events — plus inspiring extras from our global community\\n    Published monthlyPublished monthly\\n        TED Conferences TED Conferences\\n\\nShow all\\nHugo Bowne-Anderson\\nStatus is online\\nPage inboxes\\n8 8 new notifications\\n\"]"
      ]
     },
     "execution_count": 11,
     "metadata": {},
     "output_type": "execute_result"
    }
   ],
   "source": [
    "documents = [fn.read_text() for fn in Path(\"data\").iterdir()]\n",
    "documents"
   ]
  },
  {
   "cell_type": "code",
   "execution_count": 12,
   "metadata": {},
   "outputs": [],
   "source": [
    "query = \"This is a LinkedIn profile. Give me the name, position, job history, and location of the individual as json\""
   ]
  },
  {
   "cell_type": "code",
   "execution_count": 13,
   "metadata": {},
   "outputs": [
    {
     "name": "stdout",
     "output_type": "stream",
     "text": [
      "\n",
      "0 notifications total\n",
      "\n",
      "    new feed updates notifications\n",
      "\n",
      "Home\n",
      "My Network\n",
      "Jobs\n",
      "Messaging\n",
      "Notifications\n",
      "\n",
      "    Advertise\n",
      "\n",
      "Andrew Ng\n",
      "\n",
      "Andrew has a premium account\n",
      "Click to upgrade to Premium\n",
      "Andrew Ng\n",
      "2nd degree connection 2nd\n",
      "Founder of DeepLearning.AI; Managing General Partner of AI Fund; Exec Chairman of Landing AI\n",
      "\n",
      "Palo Alto, California, United States Contact info\n",
      "\n",
      "    1,880,585 followers\n",
      "\n",
      "Sebastian Raschka, PhD, Joe Reis, and 7 other mutual connectionsSebastian Raschka, PhD, Joe Reis, and 7 other mutual connections\n",
      "\n",
      "AboutAbout\n",
      "Personal home page: http://andrewng.org Personal home page: http://andrewng.org \n",
      "ActivityActivity\n",
      "\n",
      "1,880,585 followers1,880,585 followers\n",
      "Loaded 3 Posts posts\n",
      "\n",
      "    Andrew Ng posted this • 3d3d\n",
      "    Despite having worked on AI since I was a teenager, I’m now more excited than ever about what we can do with it, especially in building AI applications. Sparks are flying in our field, and 2025 will be a great year for building! One aspect of AI that I’m particularly excited about is how easy it is to build software prototypes. AI is lowering the cost of software development and expanding the set of possible applications. While it can help extend or maintain large software systems, it shines particularly in building prototypes and other simple applications quickly. If you want to build an app to print out flash cards for your kids (I just did this in a couple of hours with o1’s help), or write an application that monitors foreign exchange rates to manage international bank accounts (a real example from DeepLearning.AI’s finance team), or analyzes user reviews automatically to quickly flag problems with your products (DeepLearning.AI's content team does this), it is now possible to build these applications quickly through AI-assisted coding. I find AI-assisted coding especially effective for prototyping because (i) stand-alone prototypes require relatively little context and software integration and (ii) prototypes in alpha testing usually don’t have to be reliable. While generative AI also helps with engineering large, mission-critical software systems, the improvements in productivity there aren't as dramatic, because it’s challenging to give the AI system all the context it needs to navigate a large codebase and also to make sure the generated code is reliable (for example, covering all important corner cases). Until now, a huge friction point for getting a prototype into users’ hands has been deployment. Platforms like Bolt, Replit Agent, Vercel V0 use generative AI with agentic workflows to improve code quality, but more importantly, they also help deploy generated applications directly. (While I find these systems useful, my own workflow typically uses an LLM to design the system architecture and then generate code, one module at a time if there are multiple large modules. Then I test each module, edit the code further if needed — sometimes using an AI-enabled IDE like Cursor — and finally assemble the modules.) Building prototypes quickly is an efficient way to test ideas and get tasks done. It’s also a great way to learn. Perhaps most importantly, it’s really fun! (At least I think it is. 😄) [Reached length limit; full text: https://lnkd.in/gki7_qGv ], Happy New Year! Hopes For 2025 With Mustafa Suleyman, Audrey Tang, Albert Gu, Hanno Basse, and more..., deeplearning.ai\n",
      "    Despite having worked on AI since I was a teenager, I’m now more excited than ever about what we can do with it, especially in building AI applications. Sparks are flying in our field, and 2025 will be a great year for building!\n",
      "\n",
      "    One aspect of AI that I’m particularly excited about is how easy it is to build software prototypes. AI is lowering the cost of software development and expanding the set of possible applications. While it can help extend or maintain large software systems, it shines particularly in building prototypes and other simple applications quickly.\n",
      "\n",
      "    If you want to build an app to print out flash cards for your kids (I just did this in a couple of hours with o1’s help), or write an application that monitors foreign exchange rates to manage international bank accounts (a real example from DeepLearning.AI’s finance team), or analyzes user reviews automatically to quickly flag problems with your products (DeepLearning.AI's content team does this), it is now possible to build these applications quickly through AI-assisted coding.\n",
      "\n",
      "    I find AI-assisted coding especially effective for prototyping because (i) stand-alone prototypes require relatively little context and software integration and (ii) prototypes in alpha testing usually don’t have to be reliable. While generative AI also helps with engineering large, mission-critical software systems, the improvements in productivity there aren't as dramatic, because it’s challenging to give the AI system all the context it needs to navigate a large codebase and also to make sure the generated code is reliable (for example, covering all important corner cases).\n",
      "\n",
      "    Until now, a huge friction point for getting a prototype into users’ hands has been deployment. Platforms like Bolt, Replit Agent, Vercel V0 use generative AI with agentic workflows to improve code quality, but more importantly, they also help deploy generated applications directly. (While I find these systems useful, my own workflow typically uses an LLM to design the system architecture and then generate code, one module at a time if there are multiple large modules. Then I test each module, edit the code further if needed — sometimes using an AI-enabled IDE like Cursor — and finally assemble the modules.)\n",
      "\n",
      "    Building prototypes quickly is an efficient way to test ideas and get tasks done. It’s also a great way to learn. Perhaps most importantly, it’s really fun! (At least I think it is. 😄)\n",
      "\n",
      "    [Reached length limit; full text: https://lnkd.in/gki7_qGv ] \n",
      "\n",
      "Happy New Year! Hopes For 2025 With Mustafa Suleyman, Audrey Tang, Albert Gu, Hanno Basse, and more...\n",
      "deeplearning.ai\n",
      "\n",
      "Andrew Ng posted this • 4d4d\n",
      "Happy sum(i**3 for i in range(10)) !\n",
      "Happy sum(i**3 for i in range(10)) ! \n",
      "\n",
      "Andrew Ng posted this • 5d5d\n",
      "As we wrap up 2024, this year's final edition of The Batch summarizes some of the top stories of the year: - Agents ascendant: The growth of agentic workflows - Prices tumble: Rapidly falling LLM token prices - Generative video takes off - Smaller is beautiful: Small language models - Alternatives to acquisitions See the full articles here: https://lnkd.in/gNZXH8tk , Top AI Stories of 2024! Agents Rise, Prices Fall, Models Shrink, and more..., deeplearning.ai\n",
      "As we wrap up 2024, this year's final edition of The Batch summarizes some of the top stories of the year:\n",
      "- Agents ascendant: The growth of agentic workflows\n",
      "- Prices tumble: Rapidly falling LLM token prices\n",
      "- Generative video takes off \n",
      "- Smaller is beautiful: Small language models\n",
      "- Alternatives to acquisitions \n",
      "\n",
      "See the full articles here: https://lnkd.in/gNZXH8tk \n",
      "Top AI Stories of 2024! Agents Rise, Prices Fall, Models Shrink, and more...\n",
      "deeplearning.ai\n",
      "\n",
      "Show all posts\n",
      "ExperienceExperience\n",
      "\n",
      "    DeepLearning.AI logo\n",
      "    FounderFounder\n",
      "    DeepLearning.AIDeepLearning.AI Jun 2017 - Present · 7 yrs 8 mosJun 2017 to Present · 7 yrs 8 mos Palo Alto, California, United StatesPalo Alto, California, United States\n",
      "            DeepLearning.AI provides technical training on Generative AI, Machine Learning, Deep Learning, and other topics. We also offer a widely read newsletter, The Batch (thebatch.ai), that covers what matters in AI right now. \n",
      "\n",
      "            Our courses are often created with industry-leading AI companies (AWS, Google, OpenAI, etc.), and we offer both short courses that can be completed in an hour, and longer courses and specializations hosted on Coursera that give you a solid foundation in some aspect of AI. These courses are designed to offer hands-on practice with AI technologies, and you will gain practical, job-ready skills. \n",
      "\n",
      "            Whether you are just starting out in AI or seeking to further an existing career, come see if we can help, at http://deeplearning.ai!DeepLearning.AI provides technical training on Generative AI, Machine Learning, Deep Learning, and other topics. We also offer a widely read newsletter, The Batch (thebatch.ai), that covers what matters in AI right now. Our courses are often created with industry-leading AI companies (AWS, Google, OpenAI, etc.), and we offer both short courses that can be completed in an hour, and longer courses and specializations hosted on Coursera that give you a solid foundation in some aspect of AI. These courses are designed to offer hands-on practice with AI technologies, and you will gain practical, job-ready skills. Whether you are just starting out in AI or seeking to further an existing career, come see if we can help, at http://deeplearning.ai!\n",
      "    AI Fund logo\n",
      "    Managing General PartnerManaging General Partner\n",
      "    AI FundAI Fund Jan 2018 - Present · 7 yrs 1 moJan 2018 to Present · 7 yrs 1 mo\n",
      "            AI Fund is a venture studio that partners with entrepreneurs to build AI companies that move humanity forward. We don't just provide capital, we actively help build the company: we seek to play at least a minor co-founder role in the companies we engage in. \n",
      "\n",
      "            After identifying a concrete startup idea, we actively help the founder validate both customer need and technical feasibility (often collaborating to build a technical prototype), help shape the AI technology roadmap, the go-to-market, and help recruit the key leaders, including the AI engineering team. \n",
      "\n",
      "            Because AI is a general purpose technology that can be applied to numerous sectors -- including ones that we at AI Fund don't have expertise in -- we partner with subject matter experts (SMEs) in logistics, healthcare, education, relationships, finance, and other sectors. By leveraging our AI expertise and the SME's expertise in an important application sector, we can build a promising AI business in that sector. \n",
      "\n",
      "            We take responsible AI seriously and will, on ethical grounds, choose not to pursue projects that we otherwise assess to be financially sound.AI Fund is a venture studio that partners with entrepreneurs to build AI companies that move humanity forward. We don't just provide capital, we actively help build the company: we seek to play at least a minor co-founder role in the companies we engage in. After identifying a concrete startup idea, we actively help the founder validate both customer need and technical feasibility (often collaborating to build a technical prototype), help shape the AI technology roadmap, the go-to-market, and help recruit the key leaders, including the AI engineering team. Because AI is a general purpose technology that can be applied to numerous sectors -- including ones that we at AI Fund don't have expertise in -- we partner with subject matter experts (SMEs) in logistics, healthcare, education, relationships, finance, and other sectors. By leveraging our AI expertise and the SME's expertise in an important application sector, we can build a promising AI business in that sector. We take responsible AI seriously and will, on ethical grounds, choose not to pursue projects that we otherwise assess to be financially sound.\n",
      "    LandingAI logo\n",
      "    Executive Chairman (previously CEO) Executive Chairman (previously CEO) \n",
      "    LandingAILandingAI Oct 2017 - Present · 7 yrs 4 mosOct 2017 to Present · 7 yrs 4 mos Palo Alto, CaliforniaPalo Alto, California\n",
      "            LandingAI delivers cutting-edge Visual AI solutions that empower customers to unlock the value of visual data.\n",
      "\n",
      "            Enabled by the transformer neural network (created by the Google Brain team), the Generative AI revolution has arrived in text processing. We see a similar a revolution coming in visual data processing. LandingAI is developing cutting-edge technologies to help customers process visual data in numerous sectors including manufacturing, industrial automation, life sciences, agriculture, geo-spatial imagery, retail, entertainment, and many others. \n",
      "\n",
      "            Key technical innovations include our open source VisualAgent, Data-centric AI (the discipline of systematically engineering data to build an AI system), Vision Prompting, and domain-specific Large Vision Models.LandingAI delivers cutting-edge Visual AI solutions that empower customers to unlock the value of visual data. Enabled by the transformer neural network (created by the Google Brain team), the Generative AI revolution has arrived in text processing. We see a similar a revolution coming in visual data processing. LandingAI is developing cutting-edge technologies to help customers process visual data in numerous sectors including manufacturing, industrial automation, life sciences, agriculture, geo-spatial imagery, retail, entertainment, and many others. Key technical innovations include our open source VisualAgent, Data-centric AI (the discipline of systematically engineering data to build an AI system), Vision Prompting, and domain-specific Large Vision Models.\n",
      "    Coursera logo\n",
      "    Co-Founder and ChairmanCo-Founder and Chairman\n",
      "    CourseraCoursera Jan 2012 - Present · 13 yrs 1 moJan 2012 to Present · 13 yrs 1 mo Mountain View, CAMountain View, CA\n",
      "            Coursera (NYSE: COUR) envisions a world where anyone, anywhere has the power to transform their lives through learning. Coursera had started with my Machine Learning class and a nascent online education product I had built at Stanford. I served as the company's Co-CEO in the early years with day-to-day responsibility for product, engineering, sales, marketing and operations, and remain Chairman of the company today. Coursera now has over 100M learners, and we partner with more than 275 leading universities and companies to bring flexible, affordable, job-relevant online learning to individuals and organizations. Coursera's offerings include courses, specializations, job-ready professional certificates and degree programs. http://coursera.orgCoursera (NYSE: COUR) envisions a world where anyone, anywhere has the power to transform their lives through learning. Coursera had started with my Machine Learning class and a nascent online education product I had built at Stanford. I served as the company's Co-CEO in the early years with day-to-day responsibility for product, engineering, sales, marketing and operations, and remain Chairman of the company today. Coursera now has over 100M learners, and we partner with more than 275 leading universities and companies to bring flexible, affordable, job-relevant online learning to individuals and organizations. Coursera's offerings include courses, specializations, job-ready professional certificates and degree programs. http://coursera.org\n",
      "    Stanford University logo\n",
      "    Adjunct Professor of Computer ScienceAdjunct Professor of Computer Science\n",
      "    Stanford UniversityStanford University Sep 2002 - Present · 22 yrs 5 mosSep 2002 to Present · 22 yrs 5 mos\n",
      "            I was the Director of the Stanford AI Lab (https://ai.stanford.edu/), home to 20+ faculty members and research groups, and a tenured professor in Stanford's Computer Science department. More recently, I switched to an Adjunct Professor role. \n",
      "\n",
      "            My research group's work focused on AI, Deep Learning, Machine Learning and Robotics. Notable projects include early work in Deep Learning (that led to the founding of Google Brain), early work in online education (that led to the founding of Coursera), ROS (a widely used open-source robotics development platform), and work on Reinforcement Learning for robotic control (such as the Stanford autonomous helicopter). More recent efforts include applications of AI to Healthcare and to Climate Change.I was the Director of the Stanford AI Lab (https://ai.stanford.edu/), home to 20+ faculty members and research groups, and a tenured professor in Stanford's Computer Science department. More recently, I switched to an Adjunct Professor role. My research group's work focused on AI, Deep Learning, Machine Learning and Robotics. Notable projects include early work in Deep Learning (that led to the founding of Google Brain), early work in online education (that led to the founding of Coursera), ROS (a widely used open-source robotics development platform), and work on Reinforcement Learning for robotic control (such as the Stanford autonomous helicopter). More recent efforts include applications of AI to Healthcare and to Climate Change.\n",
      "\n",
      "Show all 8 experiences\n",
      "EducationEducation\n",
      "\n",
      "    University of California, Berkeley logo\n",
      "    University of California, BerkeleyUniversity of California, Berkeley\n",
      "    Doctor of Philosophy - PhD, Computer Science Doctor of Philosophy - PhD, Computer Science 20032003\n",
      "    Massachusetts Institute of Technology logo\n",
      "    Massachusetts Institute of TechnologyMassachusetts Institute of Technology\n",
      "    Master of Science - MS, Electrical Engineering and Computer ScienceMaster of Science - MS, Electrical Engineering and Computer Science 19981998\n",
      "\n",
      "Show all 3 educations\n",
      "SkillsSkills\n",
      "\n",
      "    EducationEducation\n",
      "        Endorsed by 2 colleagues at DeepLearning.AI Endorsed by 2 colleagues at DeepLearning.AI\n",
      "        13 endorsements13 endorsements\n",
      "    Educational TechnologyEducational Technology\n",
      "        Endorsed by 2 colleagues at DeepLearning.AI Endorsed by 2 colleagues at DeepLearning.AI\n",
      "        51 endorsements51 endorsements\n",
      "\n",
      "Show all 4 skills\n",
      "InterestsInterests\n",
      "\n",
      "    Gary Swart profile picture\n",
      "    Gary SwartGary Swart\n",
      "\n",
      "· 2ndSecond degree connection\n",
      "General Partner at Polaris PartnersGeneral Partner at Polaris Partners 120,200 followers120,200 followers\n",
      "\n",
      "Bernard Marr profile picture\n",
      "Bernard MarrBernard Marr\n",
      "· 2ndSecond degree connection\n",
      "📖 Internationally Best-selling #Author🎤 #KeynoteSpeaker🤖 #Futurist💻 #Business, #Tech & #Strategy Advisor📖 Internationally Best-selling #Author🎤 #KeynoteSpeaker🤖 #Futurist💻 #Business, #Tech & #Strategy Advisor 1,534,396 followers1,534,396 followers\n",
      "\n",
      "Show all Top Voices\n",
      "More profiles for youMore profiles for you\n",
      "\n",
      "    Ilya Sutskever profile picture\n",
      "    Ilya SutskeverIlya Sutskever\n",
      "    · 2ndSecond degree connection\n",
      "    Co-Founder and Chief Scientist at Safe Superintelligence IncCo-Founder and Chief Scientist at Safe Superintelligence Inc\n",
      "    Ian Goodfellow profile picture\n",
      "    Ian GoodfellowIan Goodfellow\n",
      "    · 2ndSecond degree connection\n",
      "    Research ScientistResearch Scientist\n",
      "        View profile\n",
      "    Shravan Goli profile picture\n",
      "    Shravan GoliShravan Goli\n",
      "    · 2ndSecond degree connection\n",
      "    CEO, President, COO, Investor, Board DirectorCEO, President, COO, Investor, Board Director\n",
      "    Lex Fridman profile picture\n",
      "    Lex FridmanLex Fridman\n",
      "    · 2ndSecond degree connection\n",
      "    Research Scientist, MITResearch Scientist, MIT\n",
      "    Eric Vyacheslav profile picture\n",
      "    Eric VyacheslavEric Vyacheslav\n",
      "    · 2ndSecond degree connection\n",
      "    AI/ML Engineer | Ex-Google | Ex-MITAI/ML Engineer | Ex-Google | Ex-MIT\n",
      "\n",
      "Show all\n",
      "Explore Premium profilesExplore Premium profiles\n",
      "\n",
      "    Cole Green profile picture\n",
      "    Cole GreenCole Green\n",
      "    · 3rdThird degree connection\n",
      "    Biopharmaceutical Engineer at CSLBiopharmaceutical Engineer at CSL\n",
      "        View profile\n",
      "    Atiya Saleha Khan profile picture\n",
      "    Atiya Saleha KhanAtiya Saleha Khan\n",
      "    · 2ndSecond degree connection\n",
      "    Senior Software Engineer, MCPD, ITIL MPSenior Software Engineer, MCPD, ITIL MP\n",
      "    Chris Griffin profile picture\n",
      "    Chris GriffinChris Griffin\n",
      "    · 2ndSecond degree connection\n",
      "    Staff IT EngineerStaff IT Engineer\n",
      "    Khushee Shrestha profile picture\n",
      "    Khushee ShresthaKhushee Shrestha\n",
      "    · 2ndSecond degree connection\n",
      "    Machine Learning Engineer @ Brainfish | Master of Technology, Artificial IntelligenceMachine Learning Engineer @ Brainfish | Master of Technology, Artificial Intelligence\n",
      "\n",
      "Try premium to stand outTry premium to stand out\n",
      "People you may knowPeople you may know\n",
      "\n",
      "From Andrew's job titleFrom Andrew's job title\n",
      "\n",
      "    Jesse N. Clark profile picture\n",
      "    Jesse N. ClarkJesse N. Clark\n",
      "    Co-Founder & CTO 🦛 @marqo.ai 🦛Co-Founder & CTO 🦛 @marqo.ai 🦛\n",
      "    Tai Elliott profile picture\n",
      "    Tai ElliottTai Elliott\n",
      "    Founder @ Machine Learning LabsFounder @ Machine Learning Labs\n",
      "    Patrick Darmon 🎗️ profile picture\n",
      "    Patrick Darmon 🎗️Patrick Darmon 🎗️\n",
      "    Partner & Co-FounderPartner & Co-Founder\n",
      "    Brianda Yáñez Arrondo profile picture\n",
      "    Brianda Yáñez ArrondoBrianda Yáñez Arrondo\n",
      "    Emprendedora social. Ciencia de datos & IA. Ética, transparencia, perspectiva social y medioambientalEmprendedora social. Ciencia de datos & IA. Ética, transparencia, perspectiva social y medioambiental\n",
      "    Matt Brandwein profile picture\n",
      "    Matt BrandweinMatt Brandwein\n",
      "    Co-Founder at Hidden DoorCo-Founder at Hidden Door\n",
      "\n",
      "Show all\n",
      "You might likeYou might like\n",
      "\n",
      "Newsletters for youNewsletters for you\n",
      "\n",
      "    Image for Research and innovation news\n",
      "    Research and innovation news Research and innovation news \n",
      "    Monthly digest of research and innovation news at the University of Oxford Monthly digest of research and innovation news at the University of Oxford \n",
      "    Published monthlyPublished monthly\n",
      "        University of Oxford University of Oxford\n",
      "    Image for Spark\n",
      "    SparkSpark\n",
      "    Tips and insights from TED events — plus inspiring extras from our global communityTips and insights from TED events — plus inspiring extras from our global community\n",
      "    Published monthlyPublished monthly\n",
      "        TED Conferences TED Conferences\n",
      "\n",
      "Show all\n",
      "Hugo Bowne-Anderson\n",
      "Status is online\n",
      "Page inboxes\n",
      "8 8 new notifications\n",
      "\n",
      "\n",
      "\n",
      "---\n",
      "\n",
      "\n",
      "This is a LinkedIn profile. Give me the name, position, job history, and location of the individual as json\n"
     ]
    }
   ],
   "source": [
    "prompt = \"\\n\\n\\n---\\n\\n\\n\".join((\"\\n\\n\\nProfile:\".join(documents), query))\n",
    "print(prompt)\n"
   ]
  },
  {
   "cell_type": "code",
   "execution_count": 14,
   "metadata": {},
   "outputs": [
    {
     "data": {
      "text/plain": [
       "GenerateContentResponse(candidates=[Candidate(content=Content(parts=[Part(video_metadata=None, thought=None, code_execution_result=None, executable_code=None, file_data=None, function_call=None, function_response=None, inline_data=None, text='```json\\n{\\n  \"name\": \"Andrew Ng\",\\n  \"position\": \"Founder of DeepLearning.AI; Managing General Partner of AI Fund; Exec Chairman of Landing AI\",\\n  \"location\": \"Palo Alto, California, United States\",\\n  \"job_history\": [\\n    {\\n      \"title\": \"Founder\",\\n      \"company\": \"DeepLearning.AI\",\\n      \"dates\": \"Jun 2017 - Present\"\\n    },\\n    {\\n      \"title\": \"Managing General Partner\",\\n      \"company\": \"AI Fund\",\\n      \"dates\": \"Jan 2018 - Present\"\\n    },\\n    {\\n      \"title\": \"Executive Chairman (previously CEO)\",\\n      \"company\": \"LandingAI\",\\n      \"dates\": \"Oct 2017 - Present\"\\n    },\\n    {\\n      \"title\": \"Co-Founder and Chairman\",\\n      \"company\": \"Coursera\",\\n      \"dates\": \"Jan 2012 - Present\"\\n    },\\n    {\\n      \"title\": \"Adjunct Professor of Computer Science\",\\n      \"company\": \"Stanford University\",\\n      \"dates\": \"Sep 2002 - Present\"\\n    }\\n  ]\\n}\\n```')], role='model'), citation_metadata=None, finish_message=None, token_count=None, finish_reason=<FinishReason.STOP: 'STOP'>, avg_logprobs=-0.01022118481722745, grounding_metadata=None, index=None, logprobs_result=None, safety_ratings=None)], create_time=None, response_id=None, model_version='gemini-2.0-flash', prompt_feedback=None, usage_metadata=GenerateContentResponseUsageMetadata(cache_tokens_details=None, cached_content_token_count=None, candidates_token_count=275, candidates_tokens_details=[ModalityTokenCount(modality=<MediaModality.TEXT: 'TEXT'>, token_count=275)], prompt_token_count=4761, prompt_tokens_details=[ModalityTokenCount(modality=<MediaModality.TEXT: 'TEXT'>, token_count=4761)], thoughts_token_count=None, tool_use_prompt_token_count=None, tool_use_prompt_tokens_details=None, total_token_count=5036, traffic_type=None), automatic_function_calling_history=[], parsed=None)"
      ]
     },
     "execution_count": 14,
     "metadata": {},
     "output_type": "execute_result"
    }
   ],
   "source": [
    "response = client.models.generate_content(\n",
    "    model=\"gemini-2.0-flash\",\n",
    "    contents=prompt,\n",
    ")\n",
    "response"
   ]
  },
  {
   "cell_type": "code",
   "execution_count": 15,
   "metadata": {},
   "outputs": [
    {
     "name": "stdout",
     "output_type": "stream",
     "text": [
      "```json\n",
      "{\n",
      "  \"name\": \"Andrew Ng\",\n",
      "  \"position\": \"Founder of DeepLearning.AI; Managing General Partner of AI Fund; Exec Chairman of Landing AI\",\n",
      "  \"location\": \"Palo Alto, California, United States\",\n",
      "  \"job_history\": [\n",
      "    {\n",
      "      \"title\": \"Founder\",\n",
      "      \"company\": \"DeepLearning.AI\",\n",
      "      \"dates\": \"Jun 2017 - Present\"\n",
      "    },\n",
      "    {\n",
      "      \"title\": \"Managing General Partner\",\n",
      "      \"company\": \"AI Fund\",\n",
      "      \"dates\": \"Jan 2018 - Present\"\n",
      "    },\n",
      "    {\n",
      "      \"title\": \"Executive Chairman (previously CEO)\",\n",
      "      \"company\": \"LandingAI\",\n",
      "      \"dates\": \"Oct 2017 - Present\"\n",
      "    },\n",
      "    {\n",
      "      \"title\": \"Co-Founder and Chairman\",\n",
      "      \"company\": \"Coursera\",\n",
      "      \"dates\": \"Jan 2012 - Present\"\n",
      "    },\n",
      "    {\n",
      "      \"title\": \"Adjunct Professor of Computer Science\",\n",
      "      \"company\": \"Stanford University\",\n",
      "      \"dates\": \"Sep 2002 - Present\"\n",
      "    }\n",
      "  ]\n",
      "}\n",
      "```\n"
     ]
    }
   ],
   "source": [
    "print(response.text)"
   ]
  },
  {
   "cell_type": "code",
   "execution_count": null,
   "metadata": {},
   "outputs": [],
   "source": []
  }
 ],
 "metadata": {
  "kernelspec": {
   "display_name": ".venv",
   "language": "python",
   "name": "python3"
  },
  "language_info": {
   "codemirror_mode": {
    "name": "ipython",
    "version": 3
   },
   "file_extension": ".py",
   "mimetype": "text/x-python",
   "name": "python",
   "nbconvert_exporter": "python",
   "pygments_lexer": "ipython3",
   "version": "3.13.1"
  }
 },
 "nbformat": 4,
 "nbformat_minor": 2
}
